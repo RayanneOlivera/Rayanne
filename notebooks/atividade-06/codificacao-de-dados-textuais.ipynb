{
 "cells": [
  {
   "cell_type": "markdown",
   "id": "45a04cdc-332c-4536-a776-359fb2806e8f",
   "metadata": {},
   "source": [
    "# Codificação de variáveis textuais\n"
   ]
  },
  {
   "cell_type": "markdown",
   "id": "2b6d3880-23a2-4e73-b858-4f88f3046494",
   "metadata": {},
   "source": [
    "## Por que devemos codificar variáveis textuais?\n",
    "A codificação de variáveis em ciência de dados é de grande importância, porém, nem tudo são números, existem variáveis categóricas que são baseadas em texto. E para isso existem formas de realizarmos esse processo como: a exemplo o Bag of Words (BoW) e o TF-IDF."
   ]
  },
  {
   "cell_type": "markdown",
   "id": "0a3bf928-5c59-4e4c-b728-99e6e774cb27",
   "metadata": {},
   "source": [
    "## Modelo Bag of Words (BoW)\n",
    "O modelo bag-of-words é uma maneira de representar dados de texto ao modelar texto com algoritmos de aprendizado de máquina. É um método de extração de recursos com dados de texto. Assim, utilizando a técnica do bag-of-words (BoW), convertemos um texto em seu vetor equivalente de números. Para isso é necessário seguir um breve passo a passo.\n",
    "\n",
    "Selecionar os dados: Selecionar e organizar os dados que serão usados, realizando a preparação para que a máquina o interprete bem.\n",
    "\n",
    "Pré-processamento: É necessário realizar quando queremos aplicar um modelo de predição ou outros métodos estatísticos. Assim, Juntar os tokens que o texto possui e trasnformamos cada palavra em uma string específica e única.\n",
    "\n",
    "Gerar vocabulário: Centraliza e memoriza informações independente da ordem e estrutura.\n",
    "\n",
    "Formar vetores a partir do documento: Cada elemento desse vetor corresponderá a uma palavra do flexível, e para isso há diversas formas de conjunto de nosso vetor com números para representar uma palavra.\n"
   ]
  },
  {
   "cell_type": "markdown",
   "id": "76e6212e-da49-4f13-90f3-ed7dcd528c21",
   "metadata": {},
   "source": [
    "## Modelo Term Frequency Inverse Document Frequency (TF-IDF)\n",
    "É uma estatística numérica expressa a importância de uma palavra para um documento em uma coleção ou conjunto de dados. Com isso, remete ao número de vezes que uma palavra aparece no texto. TF-IDF é o produto de duas estatísticas, frequência de termo e frequência de documento inversa. Sendo elas determinadas por: \n",
    "1.term frequency (tf) : pontuação da frequência das palavras no documento.\n",
    "2.inverse document frequency (idf) : pontuação de quão raro o termo é em todo o texto."
   ]
  },
  {
   "cell_type": "markdown",
   "id": "332b8006-9e02-4faa-aa7a-cca76dc6888f",
   "metadata": {},
   "source": [
    "## Conjunto de dados"
   ]
  },
  {
   "cell_type": "code",
   "execution_count": 169,
   "id": "0c2d92ec-ff4d-4982-9337-968dd219e72d",
   "metadata": {},
   "outputs": [],
   "source": [
    "## Carregamento do conjunto de dados\n",
    "frases = [\n",
    "    \"John likes\",\n",
    "    \"likes to\",\n",
    "    \"to watch\",\n",
    "    \"watch movies\",\n",
    "    \"Mary likes\",\n",
    "    \"likes movies\",\n",
    "    \"movies too\",  \n",
    "] "
   ]
  },
  {
   "cell_type": "code",
   "execution_count": 170,
   "id": "5c13d244-ae53-4488-8e67-00fe50d6fa9b",
   "metadata": {},
   "outputs": [
    {
     "name": "stdout",
     "output_type": "stream",
     "text": [
      "['John likes', 'likes to', 'to watch', 'watch movies', 'Mary likes', 'likes movies', 'movies too']\n"
     ]
    }
   ],
   "source": [
    "## Exibição do conjunto de dados\n",
    "print(frases)"
   ]
  },
  {
   "cell_type": "code",
   "execution_count": 174,
   "id": "2d5eb67e-95a6-4727-b381-866ae16d5861",
   "metadata": {},
   "outputs": [
    {
     "name": "stdout",
     "output_type": "stream",
     "text": [
      "['john likes', 'likes to', 'to watch', 'watch movies', 'mary likes', 'likes movies', 'movies too']\n"
     ]
    }
   ],
   "source": [
    "# Padronização dos dados\n",
    "Seq_frases = []\n",
    "for i in frases:\n",
    "    Seq_frases.append(i.lower())\n",
    "print(Seq_frases)"
   ]
  },
  {
   "cell_type": "markdown",
   "id": "94dc1d75-d4ef-4e52-b312-b5603c18ed22",
   "metadata": {},
   "source": [
    "## Aplicação do modelo Bag of Words (BoW)\n"
   ]
  },
  {
   "cell_type": "code",
   "execution_count": 177,
   "id": "d48457bb-58b9-4471-9c8b-8c55e5dd4ce9",
   "metadata": {},
   "outputs": [],
   "source": [
    "## Importação de bibliotecas\n",
    "from sklearn.feature_extraction.text import CountVectorizer, TfidfVectorizer\n",
    "import seaborn as sns\n",
    "import numpy as np\n",
    "import pandas as pd"
   ]
  },
  {
   "cell_type": "code",
   "execution_count": 206,
   "id": "3c715fbb-34a5-458d-b9da-ddd10f5fee50",
   "metadata": {},
   "outputs": [],
   "source": [
    "## Vetorizador de dados \n",
    "CountVec = CountVectorizer()\n",
    "vector_1.fit(frases)\n",
    "bag_of_words = CountVec.fit_transform(frases)"
   ]
  },
  {
   "cell_type": "code",
   "execution_count": 200,
   "id": "335e0e80-6bbc-4d46-8580-dde48ea7f2a3",
   "metadata": {},
   "outputs": [
    {
     "data": {
      "text/plain": [
       "<7x7 sparse matrix of type '<class 'numpy.int64'>'\n",
       "\twith 14 stored elements in Compressed Sparse Row format>"
      ]
     },
     "execution_count": 200,
     "metadata": {},
     "output_type": "execute_result"
    }
   ],
   "source": [
    "bag_of_words"
   ]
  },
  {
   "cell_type": "code",
   "execution_count": 207,
   "id": "b6ab68c4-6845-4cd6-9e31-619de7204c42",
   "metadata": {},
   "outputs": [
    {
     "data": {
      "text/plain": [
       "(7, 7)"
      ]
     },
     "execution_count": 207,
     "metadata": {},
     "output_type": "execute_result"
    }
   ],
   "source": [
    "## Tamanho da matriz\n",
    "vectorizando.shape"
   ]
  },
  {
   "cell_type": "code",
   "execution_count": 208,
   "id": "b57958df-4366-4cec-b0ca-b234f3c7e49e",
   "metadata": {},
   "outputs": [
    {
     "data": {
      "text/plain": [
       "array([[1, 1, 0, 0, 0, 0, 0],\n",
       "       [0, 1, 0, 0, 1, 0, 0],\n",
       "       [0, 0, 0, 0, 1, 0, 1],\n",
       "       [0, 0, 0, 1, 0, 0, 1],\n",
       "       [0, 1, 1, 0, 0, 0, 0],\n",
       "       [0, 1, 0, 1, 0, 0, 0],\n",
       "       [0, 0, 0, 1, 0, 1, 0]])"
      ]
     },
     "execution_count": 208,
     "metadata": {},
     "output_type": "execute_result"
    }
   ],
   "source": [
    "## Demonstração do array\n",
    "vectorizando.toarray()"
   ]
  },
  {
   "cell_type": "code",
   "execution_count": 209,
   "id": "b3a6d305-0762-4ede-b626-578f5a1cd9ce",
   "metadata": {},
   "outputs": [],
   "source": [
    "## Aplicação de vocabulário\n",
    "dicionario = vector_1.vocabulary_"
   ]
  },
  {
   "cell_type": "code",
   "execution_count": 210,
   "id": "769db6fe-1271-4ca1-bac9-7f592466cd23",
   "metadata": {},
   "outputs": [
    {
     "name": "stdout",
     "output_type": "stream",
     "text": [
      "Dicionário:{'john': 0, 'likes': 1, 'to': 4, 'watch': 6, 'movies': 3, 'mary': 2, 'too': 5}\n"
     ]
    }
   ],
   "source": [
    "## Imprimindo dicionário com palavras\n",
    "print( f\"Dicionário:{dicionario}\")"
   ]
  },
  {
   "cell_type": "code",
   "execution_count": 212,
   "id": "72281c3b-ca01-498a-86b3-a8b41d2d03a5",
   "metadata": {},
   "outputs": [
    {
     "data": {
      "text/html": [
       "<div>\n",
       "<style scoped>\n",
       "    .dataframe tbody tr th:only-of-type {\n",
       "        vertical-align: middle;\n",
       "    }\n",
       "\n",
       "    .dataframe tbody tr th {\n",
       "        vertical-align: top;\n",
       "    }\n",
       "\n",
       "    .dataframe thead th {\n",
       "        text-align: right;\n",
       "    }\n",
       "</style>\n",
       "<table border=\"1\" class=\"dataframe\">\n",
       "  <thead>\n",
       "    <tr style=\"text-align: right;\">\n",
       "      <th></th>\n",
       "      <th>john</th>\n",
       "      <th>likes</th>\n",
       "      <th>mary</th>\n",
       "      <th>movies</th>\n",
       "      <th>to</th>\n",
       "      <th>too</th>\n",
       "      <th>watch</th>\n",
       "    </tr>\n",
       "  </thead>\n",
       "  <tbody>\n",
       "    <tr>\n",
       "      <th>0</th>\n",
       "      <td>1</td>\n",
       "      <td>1</td>\n",
       "      <td>0</td>\n",
       "      <td>0</td>\n",
       "      <td>0</td>\n",
       "      <td>0</td>\n",
       "      <td>0</td>\n",
       "    </tr>\n",
       "    <tr>\n",
       "      <th>1</th>\n",
       "      <td>0</td>\n",
       "      <td>1</td>\n",
       "      <td>0</td>\n",
       "      <td>0</td>\n",
       "      <td>1</td>\n",
       "      <td>0</td>\n",
       "      <td>0</td>\n",
       "    </tr>\n",
       "    <tr>\n",
       "      <th>2</th>\n",
       "      <td>0</td>\n",
       "      <td>0</td>\n",
       "      <td>0</td>\n",
       "      <td>0</td>\n",
       "      <td>1</td>\n",
       "      <td>0</td>\n",
       "      <td>1</td>\n",
       "    </tr>\n",
       "    <tr>\n",
       "      <th>3</th>\n",
       "      <td>0</td>\n",
       "      <td>0</td>\n",
       "      <td>0</td>\n",
       "      <td>1</td>\n",
       "      <td>0</td>\n",
       "      <td>0</td>\n",
       "      <td>1</td>\n",
       "    </tr>\n",
       "    <tr>\n",
       "      <th>4</th>\n",
       "      <td>0</td>\n",
       "      <td>1</td>\n",
       "      <td>1</td>\n",
       "      <td>0</td>\n",
       "      <td>0</td>\n",
       "      <td>0</td>\n",
       "      <td>0</td>\n",
       "    </tr>\n",
       "    <tr>\n",
       "      <th>5</th>\n",
       "      <td>0</td>\n",
       "      <td>1</td>\n",
       "      <td>0</td>\n",
       "      <td>1</td>\n",
       "      <td>0</td>\n",
       "      <td>0</td>\n",
       "      <td>0</td>\n",
       "    </tr>\n",
       "    <tr>\n",
       "      <th>6</th>\n",
       "      <td>0</td>\n",
       "      <td>0</td>\n",
       "      <td>0</td>\n",
       "      <td>1</td>\n",
       "      <td>0</td>\n",
       "      <td>1</td>\n",
       "      <td>0</td>\n",
       "    </tr>\n",
       "  </tbody>\n",
       "</table>\n",
       "</div>"
      ],
      "text/plain": [
       "   john  likes  mary  movies  to  too  watch\n",
       "0     1      1     0       0   0    0      0\n",
       "1     0      1     0       0   1    0      0\n",
       "2     0      0     0       0   1    0      1\n",
       "3     0      0     0       1   0    0      1\n",
       "4     0      1     1       0   0    0      0\n",
       "5     0      1     0       1   0    0      0\n",
       "6     0      0     0       1   0    1      0"
      ]
     },
     "execution_count": 212,
     "metadata": {},
     "output_type": "execute_result"
    }
   ],
   "source": [
    "## Exibição do DataFrame collums\n",
    "dados = pd.DataFrame(bag_of_words.toarray(), columns=CountVec.get_feature_names_out())\n",
    "dados"
   ]
  },
  {
   "cell_type": "markdown",
   "id": "d7d3e13f-944b-4a14-ace4-94ed2a8ccc69",
   "metadata": {},
   "source": [
    "## Aplicação do modelo Term Frequency Inverse Document Frequency (TF-IDF)"
   ]
  },
  {
   "cell_type": "markdown",
   "id": "b688d14b-4355-4e26-b665-a0df4984becb",
   "metadata": {},
   "source": [
    "## Modo 1"
   ]
  },
  {
   "cell_type": "code",
   "execution_count": 176,
   "id": "48220313-973e-44db-abe1-db598eb016ff",
   "metadata": {},
   "outputs": [
    {
     "name": "stdout",
     "output_type": "stream",
     "text": [
      "['john', 'likes', 'mary', 'movies', 'to', 'too', 'watch']\n",
      "[[0.85141699 0.52448938 0.         0.         0.         0.\n",
      "  0.        ]\n",
      " [0.         0.59594003 0.         0.         0.80302894 0.\n",
      "  0.        ]\n",
      " [0.         0.         0.         0.         0.70710678 0.\n",
      "  0.70710678]\n",
      " [0.         0.         0.         0.64974959 0.         0.\n",
      "  0.76014832]\n",
      " [0.         0.52448938 0.85141699 0.         0.         0.\n",
      "  0.        ]\n",
      " [0.         0.65559486 0.         0.75511282 0.         0.\n",
      "  0.        ]\n",
      " [0.         0.         0.         0.57866699 0.         0.81556393\n",
      "  0.        ]]\n"
     ]
    }
   ],
   "source": [
    "## Vetorizando dados com TF-IDF\n",
    "vectorizer = TfidfVectorizer()\n",
    "\n",
    "## Transformação\n",
    "X = vectorizer.fit_transform(frases)\n",
    "\n",
    "## Demostrando dos dados\n",
    "print(vectorizer.get_feature_names())\n",
    "print(X.toarray())"
   ]
  },
  {
   "cell_type": "markdown",
   "id": "72111d96-2f73-4312-9921-180f0a8a3dca",
   "metadata": {},
   "source": [
    "## Modo 2 "
   ]
  },
  {
   "cell_type": "code",
   "execution_count": 213,
   "id": "7fa5ec5f-e43d-4a1d-8202-3b7b3eb7fb01",
   "metadata": {},
   "outputs": [],
   "source": [
    "## Definindo vetorizador\n",
    "tf = TfidfVectorizer(lowercase=False, max_features=50)    "
   ]
  },
  {
   "cell_type": "code",
   "execution_count": 214,
   "id": "7b63d2c7-b988-4645-b2d2-7949ff6e92d9",
   "metadata": {},
   "outputs": [
    {
     "name": "stdout",
     "output_type": "stream",
     "text": [
      "<class 'scipy.sparse._csr.csr_matrix'>\n"
     ]
    }
   ],
   "source": [
    "## Realizando transformação\n",
    "dados = tf.fit_transform(frases)\n",
    "print(type(dados))"
   ]
  },
  {
   "cell_type": "code",
   "execution_count": 197,
   "id": "8b954b48-445e-4826-a1c5-9a0bf2660e93",
   "metadata": {},
   "outputs": [
    {
     "data": {
      "text/html": [
       "<div>\n",
       "<style scoped>\n",
       "    .dataframe tbody tr th:only-of-type {\n",
       "        vertical-align: middle;\n",
       "    }\n",
       "\n",
       "    .dataframe tbody tr th {\n",
       "        vertical-align: top;\n",
       "    }\n",
       "\n",
       "    .dataframe thead th {\n",
       "        text-align: right;\n",
       "    }\n",
       "</style>\n",
       "<table border=\"1\" class=\"dataframe\">\n",
       "  <thead>\n",
       "    <tr style=\"text-align: right;\">\n",
       "      <th></th>\n",
       "      <th>John</th>\n",
       "      <th>Mary</th>\n",
       "      <th>likes</th>\n",
       "      <th>movies</th>\n",
       "      <th>to</th>\n",
       "      <th>too</th>\n",
       "      <th>watch</th>\n",
       "    </tr>\n",
       "  </thead>\n",
       "  <tbody>\n",
       "    <tr>\n",
       "      <th>0</th>\n",
       "      <td>0.851417</td>\n",
       "      <td>0.000000</td>\n",
       "      <td>0.524489</td>\n",
       "      <td>0.000000</td>\n",
       "      <td>0.000000</td>\n",
       "      <td>0.000000</td>\n",
       "      <td>0.000000</td>\n",
       "    </tr>\n",
       "    <tr>\n",
       "      <th>1</th>\n",
       "      <td>0.000000</td>\n",
       "      <td>0.000000</td>\n",
       "      <td>0.595940</td>\n",
       "      <td>0.000000</td>\n",
       "      <td>0.803029</td>\n",
       "      <td>0.000000</td>\n",
       "      <td>0.000000</td>\n",
       "    </tr>\n",
       "    <tr>\n",
       "      <th>2</th>\n",
       "      <td>0.000000</td>\n",
       "      <td>0.000000</td>\n",
       "      <td>0.000000</td>\n",
       "      <td>0.000000</td>\n",
       "      <td>0.707107</td>\n",
       "      <td>0.000000</td>\n",
       "      <td>0.707107</td>\n",
       "    </tr>\n",
       "    <tr>\n",
       "      <th>3</th>\n",
       "      <td>0.000000</td>\n",
       "      <td>0.000000</td>\n",
       "      <td>0.000000</td>\n",
       "      <td>0.649750</td>\n",
       "      <td>0.000000</td>\n",
       "      <td>0.000000</td>\n",
       "      <td>0.760148</td>\n",
       "    </tr>\n",
       "    <tr>\n",
       "      <th>4</th>\n",
       "      <td>0.000000</td>\n",
       "      <td>0.851417</td>\n",
       "      <td>0.524489</td>\n",
       "      <td>0.000000</td>\n",
       "      <td>0.000000</td>\n",
       "      <td>0.000000</td>\n",
       "      <td>0.000000</td>\n",
       "    </tr>\n",
       "    <tr>\n",
       "      <th>5</th>\n",
       "      <td>0.000000</td>\n",
       "      <td>0.000000</td>\n",
       "      <td>0.655595</td>\n",
       "      <td>0.755113</td>\n",
       "      <td>0.000000</td>\n",
       "      <td>0.000000</td>\n",
       "      <td>0.000000</td>\n",
       "    </tr>\n",
       "    <tr>\n",
       "      <th>6</th>\n",
       "      <td>0.000000</td>\n",
       "      <td>0.000000</td>\n",
       "      <td>0.000000</td>\n",
       "      <td>0.578667</td>\n",
       "      <td>0.000000</td>\n",
       "      <td>0.815564</td>\n",
       "      <td>0.000000</td>\n",
       "    </tr>\n",
       "  </tbody>\n",
       "</table>\n",
       "</div>"
      ],
      "text/plain": [
       "       John      Mary     likes    movies        to       too     watch\n",
       "0  0.851417  0.000000  0.524489  0.000000  0.000000  0.000000  0.000000\n",
       "1  0.000000  0.000000  0.595940  0.000000  0.803029  0.000000  0.000000\n",
       "2  0.000000  0.000000  0.000000  0.000000  0.707107  0.000000  0.707107\n",
       "3  0.000000  0.000000  0.000000  0.649750  0.000000  0.000000  0.760148\n",
       "4  0.000000  0.851417  0.524489  0.000000  0.000000  0.000000  0.000000\n",
       "5  0.000000  0.000000  0.655595  0.755113  0.000000  0.000000  0.000000\n",
       "6  0.000000  0.000000  0.000000  0.578667  0.000000  0.815564  0.000000"
      ]
     },
     "execution_count": 197,
     "metadata": {},
     "output_type": "execute_result"
    }
   ],
   "source": [
    "## Exibição do DataFrame collums\n",
    "pd.DataFrame(dados.todense(), columns=tf.get_feature_names_out())"
   ]
  },
  {
   "cell_type": "code",
   "execution_count": null,
   "id": "b4a8b7b7-875d-4f1b-9963-e535c9757240",
   "metadata": {},
   "outputs": [],
   "source": []
  }
 ],
 "metadata": {
  "kernelspec": {
   "display_name": "Python 3 (ipykernel)",
   "language": "python",
   "name": "python3"
  },
  "language_info": {
   "codemirror_mode": {
    "name": "ipython",
    "version": 3
   },
   "file_extension": ".py",
   "mimetype": "text/x-python",
   "name": "python",
   "nbconvert_exporter": "python",
   "pygments_lexer": "ipython3",
   "version": "3.8.10"
  }
 },
 "nbformat": 4,
 "nbformat_minor": 5
}
